{
 "cells": [
  {
   "cell_type": "markdown",
   "metadata": {},
   "source": [
    "## Libraries"
   ]
  },
  {
   "cell_type": "code",
   "execution_count": 9,
   "metadata": {},
   "outputs": [],
   "source": [
    "import numpy as np\n",
    "from scipy.integrate import odeint\n",
    "import matplotlib.pyplot as plt\n",
    "import networkx as nx\n",
    "from tqdm import tqdm\n",
    "import pickle as pkl \n",
    "import sys"
   ]
  },
  {
   "cell_type": "markdown",
   "metadata": {},
   "source": [
    "# Meta Population Network"
   ]
  },
  {
   "attachments": {},
   "cell_type": "markdown",
   "metadata": {},
   "source": [
    "### Plotter"
   ]
  },
  {
   "cell_type": "code",
   "execution_count": 10,
   "metadata": {},
   "outputs": [],
   "source": [
    "def multi_ploter(t, s, K, i):\n",
    "# dark blue, orange, red, brown, green, black\n",
    "    y = 5*i\n",
    "    \n",
    "    plt.plot(t, s[:,y+0], label=f'S$_{i}$', color='#000080')\n",
    "    plt.plot(t, s[:,y+1], label=f'E$_{i}$', color='#FFA500')\n",
    "    plt.plot(t, s[:,y+2], label=f'I$_{i}$', color='#FF0000')\n",
    "    plt.plot(t, s[:,y+3], label=f'H$_{i}$', color='#8B4513')\n",
    "    plt.plot(t, s[:,y+4], label=f'R$_{i}$', color='#008000')\n",
    "    plt.plot(t, s[:,y+5], label=f'K$_{i}$', color='#000000')\n",
    "    \n",
    "    plt.legend()\n",
    "    plt.xlabel('Time')\n",
    "    plt.ylabel('Fraction of population')\n",
    "    # display only 3 ticks on the x-axis\n",
    "    # plt.xticks(np.linspace(0, t[-1], 3))\n",
    "    # display only 5 ticks on the y-axis\n",
    "    # plt.yticks(np.linspace(0, 1, 5))\n",
    "    plt.show()\n",
    "    return\n"
   ]
  },
  {
   "cell_type": "markdown",
   "metadata": {},
   "source": [
    "### Dynamics"
   ]
  },
  {
   "cell_type": "code",
   "execution_count": 11,
   "metadata": {},
   "outputs": [],
   "source": [
    "def f(s,t):\n",
    "    # alpha -> a0, a1\n",
    "    # beta -> b\n",
    "    # sigma -> si\n",
    "    # gamma -> g\n",
    "    # Xi -> x\n",
    "    # chi -> c\n",
    "    # epsilon -> e\n",
    "    # probability -> p\n",
    "\n",
    "    # Parameters\n",
    "    global a0, a1, si, b, g, c, x, e, p, l\n",
    "    # Population network\n",
    "    global M\n",
    "    \n",
    "    # convert s to 2D array\n",
    "    K = s[-1]\n",
    "    # remove K from s\n",
    "    s = np.array(s[:-1])\n",
    "    s = s.reshape(l, 5)\n",
    "    s = s.T\n",
    "    # print(s)\n",
    "    S, E, I, H, R = s\n",
    "    K = 1\n",
    "    N = S + E + I + H + R # Total population\n",
    "    # print(a0,a1,K)\n",
    "    a_k = a0 + a1*p*K\n",
    "    # print(a_k)\n",
    "    dsdt = np.zeros(l)\n",
    "    dedt = np.zeros(l)\n",
    "    didt = np.zeros(l)\n",
    "    dhdt = np.zeros(l)\n",
    "    drdt = np.zeros(l)\n",
    "    dkdt = -c*K\n",
    "    \n",
    "    d = M.degree() # degree of each node\n",
    "    A = nx.adjacency_matrix(M) # adjacency matrix\n",
    "    A = A.toarray()\n",
    "    diff_s, diff_e, diff_i, diff_r = np.copy(dsdt), np.copy(dsdt), np.copy(dsdt), np.copy(dsdt) \n",
    "    \n",
    "    for k in range(l):\n",
    "        Q = np.eye(l)\n",
    "        Q[:,k] = Q[:,k] - np.ones(l,)\n",
    "        diff_s[k] = np.dot(A[:,k],np.dot(Q,S))\n",
    "        diff_e[k] = np.dot(A[:,k],np.dot(Q,E))\n",
    "        diff_i[k] = np.dot(A[:,k],np.dot(Q,I))\n",
    "        diff_r[k] = np.dot(A[:,k],np.dot(Q,R))\n",
    "        \n",
    "\n",
    "\n",
    "    for i in range(l):\n",
    "        dsdt[i] = -b[i]*S[i]*I[i]/N[i] + (e/d[i])*diff_s[i]\n",
    "        dedt[i] = b[i]*S[i]*I[i]/N[i] - si*E[i] + (e/d[i])*diff_e[i]\n",
    "        didt[i] = si*E[i] - a_k[i]*I[i] + (e/d[i])*diff_i[i]\n",
    "        dhdt[i] = a_k[i]*I[i] - g*H[i]\n",
    "        drdt[i] = g*H[i]+ (e/d[i])*diff_r[i]\n",
    "        dkdt += x*I[i]\n",
    "\n",
    "    # return 1D array\n",
    "    temp = []\n",
    "    for i in range(l):\n",
    "        temp.append(dsdt[i])\n",
    "        temp.append(dedt[i])\n",
    "        temp.append(didt[i])\n",
    "        temp.append(dhdt[i])\n",
    "        temp.append(drdt[i])\n",
    "    temp.append(dkdt)\n",
    "    return temp"
   ]
  },
  {
   "cell_type": "code",
   "execution_count": 12,
   "metadata": {},
   "outputs": [],
   "source": [
    "def Gen_Network(n):\n",
    "    M = nx.erdos_renyi_graph(n, 0.1)\n",
    "    b = 0.03*np.ones(n) #\n",
    "    return M,b"
   ]
  },
  {
   "cell_type": "code",
   "execution_count": 13,
   "metadata": {},
   "outputs": [],
   "source": [
    "def IZ(s0,step,e,M):\n",
    "    I = [] # store all the infected people\n",
    "    Z = [] # store all the susceptible\n",
    "    names = ['SD', 'SI', 'SC', 'SB', 'SW']\n",
    "    global l, p, n\n",
    "    l = len(M)\n",
    "    for y in tqdm(range(1,step+1)):\n",
    "        P = [] # store all the probabilities for SW,SD,SI,SB,SC\n",
    "        p = np.zeros(n)\n",
    "        Nd = y/step # fraction of nodes to be provided with kits\n",
    "        z = int(Nd*l)\n",
    "\n",
    "        #------------------------------------------------------------\n",
    "        temp = np.array(sorted(M.degree(), key=lambda x: x[1], reverse=True)[:z])\n",
    "        p[temp[:,0]] = temp[:,1]/sum(temp[:,1]) # degree distribution of testkits SD\n",
    "        P.append(p)\n",
    "        #------------------------------------------------------------\n",
    "        p = np.zeros(n)\n",
    "        temp = np.array(sorted(M.degree(), key=lambda x: x[1], reverse=False)[:z])\n",
    "        p[temp[:,0]] = temp[:,1]/sum(temp[:,1]) # degree distribution of testkits SI\n",
    "        P.append(p) \n",
    "        #------------------------------------------------------------\n",
    "        p = np.zeros(n)\n",
    "        temp = np.array(sorted(np.array(list(nx.clustering(M).items())), key=lambda x: x[1], reverse=True)[:z])\n",
    "        # print(temp)\n",
    "        p[temp[:,0].astype(int)] = temp[:,1]/sum(temp[:,1]) # degree distribution of testkits SC\n",
    "        P.append(p)\n",
    "        #------------------------------------------------------------\n",
    "        p = np.zeros(n)\n",
    "        temp = np.array(sorted(np.array(list(nx.betweenness_centrality(M).items())), key=lambda x: x[1], reverse=True)[:z])\n",
    "        # print(temp)\n",
    "        p[temp[:,0].astype(int)] = temp[:,1]/sum(temp[:,1]) # degree distribution of testkits SB\n",
    "        P.append(p)\n",
    "        #------------------------------------------------------------\n",
    "        # print(p)\n",
    "\n",
    "        t = np.linspace(0, 1000,50) # time\n",
    "        a1 = 0.3\n",
    "        P.append(np.zeros(n)) # no distribution of testkits\n",
    "\n",
    "        temp = np.zeros(len(t))\n",
    "\n",
    "        for j in range(len(P)):\n",
    "            p = P[j]\n",
    "            if j == len(P): # no test kits\n",
    "                a1 = 0\n",
    "            # print(j,p)\n",
    "            # print(p)\n",
    "            s = odeint(f, s0, t)\n",
    "            pkl.dump(s, open(\"./Data/s_ER_Imax_\" + str(e) + \"_\" + names[j] + \".pkl\" , \"wb\"))\n",
    "            K = s[:,-1]\n",
    "            s = s[:,:-1]            \n",
    "            temp = np.zeros(len(t))\n",
    "            temp_z = 0\n",
    "            for i in range(n):\n",
    "                y = 5*i\n",
    "                temp += s[:,y+2]\n",
    "                temp_z += 100 - s[-1,y]\n",
    "            I.append(max(temp))\n",
    "            Z.append(temp_z)\n",
    "\n",
    "    Imax = np.array(I)\n",
    "    Zfos = np.array(Z)\n",
    "    # convert into 2d array\n",
    "    Imax = Imax.reshape(step,len(P))\n",
    "    Zfos = Zfos.reshape(step,len(P))\n",
    "    # colors are green blue dark yellow red and black\n",
    "    colors = ['#00FF00', '#0000FF', '#8B008B', '#FFD700', '#FF0000', '#000000']\n",
    "    plt.figure()\n",
    "    for j in range(len(P)):\n",
    "        plt.plot(np.linspace(1,step,step)/10, Imax[:,j]/(100*n), label=names[j], color=colors[j],marker='o', markersize=2,linestyle='dashed', linewidth=1)\n",
    "    plt.legend()\n",
    "    plt.xlabel('p')\n",
    "    plt.ylabel('$I_{max}$',size=15)\n",
    "    # add text\n",
    "    plt.text(0.9, 0.9, f'epsilon = {e}', horizontalalignment='center', verticalalignment='center', transform=plt.gca().transAxes)\n",
    "    plt.show()\n",
    "\n",
    "    plt.figure()\n",
    "    for j in range(len(P)):\n",
    "        plt.plot(np.linspace(1,step,step)/10, Zfos[:,j]/(100*n), label=names[j], color=colors[j],marker='o', markersize=2,linestyle='dashed', linewidth=1)\n",
    "    plt.legend()\n",
    "    plt.xlabel('p')\n",
    "    plt.ylabel('$Z_{FOS}$',size=15)\n",
    "    # add text\n",
    "    plt.text(0.9, 0.9, f'epsilon = {e}', horizontalalignment='center', verticalalignment='center', transform=plt.gca().transAxes)\n",
    "    plt.show()"
   ]
  },
  {
   "cell_type": "code",
   "execution_count": 14,
   "metadata": {},
   "outputs": [],
   "source": [
    "a0 = 0.01\n",
    "a1 = 0.3\n",
    "\n",
    "\n",
    "# p = np.ones(n)/l # equal distribution of testkits\n",
    "# p = np.zeros(n)\n",
    "# temp = np.array(sorted(M.degree(), key=lambda x: x[1], reverse=True)[:2])\n",
    "# p[temp[:,0]] = temp[:,1]/sum(temp[:,1]) # degree distribution of testkits SD\n",
    "# print(p)\n",
    "\n",
    "si = 0.1\n",
    "g = 0.07\n",
    "c = 0.1\n",
    "x = 0.02\n",
    "e = 0.1 # migration strength"
   ]
  },
  {
   "cell_type": "markdown",
   "metadata": {},
   "source": [
    "### Erdos Renyi Metapopulation Network"
   ]
  },
  {
   "cell_type": "markdown",
   "metadata": {},
   "source": [
    "#### $I_{max}$"
   ]
  },
  {
   "cell_type": "code",
   "execution_count": 15,
   "metadata": {},
   "outputs": [
    {
     "name": "stderr",
     "output_type": "stream",
     "text": [
      "  0%|          | 0/10 [00:00<?, ?it/s]/tmp/ipykernel_7467/3337181765.py:37: FutureWarning: adjacency_matrix will return a scipy.sparse array instead of a matrix in Networkx 3.0.\n",
      "  A = nx.adjacency_matrix(M) # adjacency matrix\n",
      "100%|██████████| 10/10 [01:33<00:00,  9.39s/it]\n"
     ]
    },
    {
     "data": {
      "image/png": "[encoded data removed]",
      "text/plain": [
       "<Figure size 432x288 with 1 Axes>"
      ]
     },
     "metadata": {
      "needs_background": "light"
     },
     "output_type": "display_data"
    },
    {
     "data": {
      "image/png": "[encoded data removed]",
      "text/plain": [
       "<Figure size 432x288 with 1 Axes>"
      ]
     },
     "metadata": {
      "needs_background": "light"
     },
     "output_type": "display_data"
    }
   ],
   "source": [
    "n = 50\n",
    "s0 = []\n",
    "temp = [99, 1, 0, 0, 0]\n",
    "for i in range(n):\n",
    "    de = i+1\n",
    "    temp = [100-np.round(de/10), de, 0, 0, 0]\n",
    "    s0 = s0 + temp # S, E, I, H, R\n",
    "# initial conditions for each community in the network\n",
    "s0.append(0) # K\n",
    "step = 10\n",
    "M,b = Gen_Network(n)\n",
    "\n",
    "IZ(s0,step,0.005,M)"
   ]
  }
 ],
 "metadata": {
  "kernelspec": {
   "display_name": "Heatlearn",
   "language": "python",
   "name": "python3"
  },
  "language_info": {
   "codemirror_mode": {
    "name": "ipython",
    "version": 3
   },
   "file_extension": ".py",
   "mimetype": "text/x-python",
   "name": "python",
   "nbconvert_exporter": "python",
   "pygments_lexer": "ipython3",
   "version": "3.10.6"
  },
  "orig_nbformat": 4
 },
 "nbformat": 4,
 "nbformat_minor": 2
}
